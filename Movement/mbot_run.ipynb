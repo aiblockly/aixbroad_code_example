{
 "cells": [
  {
   "attachments": {},
   "cell_type": "markdown",
   "metadata": {},
   "source": [
    "### 安装依赖"
   ]
  },
  {
   "cell_type": "code",
   "execution_count": null,
   "metadata": {},
   "outputs": [],
   "source": [
    "!sudo pip install megapi\n",
    "!sudo pip install pyserial\n",
    "!sudo usermod -aG dialout $USER"
   ]
  },
  {
   "attachments": {},
   "cell_type": "markdown",
   "metadata": {},
   "source": [
    "### 定义Class "
   ]
  },
  {
   "cell_type": "code",
   "execution_count": null,
   "metadata": {},
   "outputs": [],
   "source": [
    "import time\n",
    "from megapi import *\n",
    "\n",
    "class MBOT_MEGA:\n",
    "    def __init__(self,portName,wheelports_lf_lb_rf_rb=[1,9,10,2]):\n",
    "        self.mbot = MegaPi()\n",
    "        self.mbot.start(portName)\n",
    "        self.wheelports = wheelports_lf_lb_rf_rb\n",
    "\n",
    "    def __del__(self):\n",
    "        self.mbot.close()\n",
    "        self.mbot.exiting = True\n",
    "\n",
    "    def run(self,direction=\"forward\",speed=100):\n",
    "        if direction==\"forward\":\n",
    "            speedList = [i*speed for i in [-1,-1,1,1]]\n",
    "        elif direction==\"back\":\n",
    "            speedList = [i*speed for i in [1,1,-1,-1]]\n",
    "        elif direction==\"turn_left\":\n",
    "            speedList = [i*speed for i in [1,1,1,1]]\n",
    "        elif direction==\"turn_right\":\n",
    "            speedList = [i*speed for i in [-1,-1,-1,-1]]\n",
    "        elif direction==\"move_left\":\n",
    "            speedList = [i*speed for i in [-1,1,-1,1]]\n",
    "        elif direction==\"move_right\":\n",
    "            speedList = [i*speed for i in [1,-1,1,-1]]\n",
    "        else:\n",
    "            speedList = [0,0,0,0]           \n",
    "        self.mbot.motorRun(self.wheelports[0],speedList[0])\n",
    "        self.mbot.motorRun(self.wheelports[1],speedList[1])\n",
    "        self.mbot.motorRun(self.wheelports[2],speedList[2])\n",
    "        self.mbot.motorRun(self.wheelports[3],speedList[3])\n",
    "        \n",
    "    def stop(self):\n",
    "        self.mbot.motorRun(self.wheelports[0],0)\n",
    "        self.mbot.motorRun(self.wheelports[1],0)\n",
    "        self.mbot.motorRun(self.wheelports[2],0)\n",
    "        self.mbot.motorRun(self.wheelports[3],0)"
   ]
  },
  {
   "attachments": {},
   "cell_type": "markdown",
   "metadata": {},
   "source": [
    "### 执行 请务必在```___main___```中执行，否则可能因为多线程产生奇奇怪怪的问题"
   ]
  },
  {
   "cell_type": "code",
   "execution_count": null,
   "metadata": {},
   "outputs": [],
   "source": [
    "\n",
    "if __name__ == \"__main__\":\n",
    "    a = MBOT_MEGA(\"/dev/ttyUSB0\",[1,9,10,2])\n",
    "    time.sleep(3)\n",
    "    for d in [\"forward\",\"back\",\"turn_left\",\"turn_right\",\"move_left\",\"move_right\"]:\n",
    "        a.run(d,100)\n",
    "        time.sleep(3)\n",
    "    a.stop()\n",
    "    time.sleep(3)\n",
    "    del a\n"
   ]
  }
 ],
 "metadata": {
  "kernelspec": {
   "display_name": "Python 3",
   "language": "python",
   "name": "python3"
  },
  "language_info": {
   "name": "python",
   "version": "3.9.13 (tags/v3.9.13:6de2ca5, May 17 2022, 16:36:42) [MSC v.1929 64 bit (AMD64)]"
  },
  "orig_nbformat": 4,
  "vscode": {
   "interpreter": {
    "hash": "81794d4967e6c3204c66dcd87b604927b115b27c00565d3d43f05ba2f3a2cb0d"
   }
  }
 },
 "nbformat": 4,
 "nbformat_minor": 2
}
